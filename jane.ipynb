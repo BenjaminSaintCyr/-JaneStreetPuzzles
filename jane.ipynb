{
 "cells": [
  {
   "cell_type": "code",
   "execution_count": null,
   "metadata": {
    "dotnet_interactive": {
     "language": "fsharp"
    }
   },
   "outputs": [
    {
     "data": {
      "text/html": [
       "<div><div></div><div></div><div><strong>Installed Packages</strong><ul><li><span>FSharp.Data, 4.2.7</span></li></ul></div></div>"
      ]
     },
     "metadata": {},
     "output_type": "display_data"
    }
   ],
   "source": [
    "#r \"nuget:FSharp.Data\"\n",
    "open FSharp.Data"
   ]
  },
  {
   "cell_type": "code",
   "execution_count": null,
   "metadata": {
    "dotnet_interactive": {
     "language": "fsharp"
    }
   },
   "outputs": [
    {
     "data": {
      "text/html": [
       "<table><thead><tr><th><i>index</i></th><th>value</th></tr></thead><tbody><tr><td>0</td><td>ABACK</td></tr><tr><td>1</td><td>ABASE</td></tr><tr><td>2</td><td>ABATE</td></tr><tr><td>3</td><td>ABBEY</td></tr><tr><td>4</td><td>ABBOT</td></tr><tr><td>5</td><td>ABHOR</td></tr><tr><td>6</td><td>ABIDE</td></tr><tr><td>7</td><td>ABLED</td></tr><tr><td>8</td><td>ABODE</td></tr><tr><td>9</td><td>ABORT</td></tr><tr><td>10</td><td>ABOUT</td></tr><tr><td>11</td><td>ABOVE</td></tr><tr><td>12</td><td>ABUSE</td></tr><tr><td>13</td><td>ABYSS</td></tr><tr><td>14</td><td>ACORN</td></tr><tr><td>15</td><td>ACRID</td></tr><tr><td>16</td><td>ACTOR</td></tr><tr><td>17</td><td>ACUTE</td></tr><tr><td>18</td><td>ADAGE</td></tr><tr><td>19</td><td>ADAPT</td></tr><tr><td colspan=\"2\"><i>(2295 more)</i></td></tr></tbody></table>"
      ]
     },
     "metadata": {},
     "output_type": "display_data"
    }
   ],
   "source": [
    "[<Literal>]\n",
    "let ResolutionFolder = __SOURCE_DIRECTORY__\n",
    "\n",
    "[<Literal>]\n",
    "let DataPath = \"./words.csv\"\n",
    "\n",
    "// ugly :(\n",
    "let wordList = \n",
    "    let rawList = CsvProvider<DataPath, ResolutionFolder=ResolutionFolder>.GetSample()\n",
    "    match rawList.Headers with\n",
    "    | Some header -> ((header |> Array.head) :: (rawList.Rows |> List.ofSeq |> List.map (fun x -> x |> string))) |> Array.ofList\n",
    "    | None -> rawList.Rows |> Array.ofSeq |> Array.map (fun x -> x |> string)\n",
    "\n",
    "wordList"
   ]
  },
  {
   "cell_type": "code",
   "execution_count": null,
   "metadata": {
    "dotnet_interactive": {
     "language": "fsharp"
    }
   },
   "outputs": [
    {
     "data": {
      "text/html": [
       "<table><thead><tr><th><i>index</i></th><th>value</th></tr></thead><tbody><tr><td>0</td><td>ABASE</td></tr><tr><td>1</td><td>ABATE</td></tr><tr><td>2</td><td>ABBEY</td></tr><tr><td>3</td><td>ABBOT</td></tr><tr><td>4</td><td>ABHOR</td></tr><tr><td>5</td><td>ABIDE</td></tr><tr><td>6</td><td>ABLED</td></tr><tr><td>7</td><td>ABODE</td></tr><tr><td>8</td><td>ABORT</td></tr><tr><td>9</td><td>ABOUT</td></tr><tr><td>10</td><td>ABOVE</td></tr><tr><td>11</td><td>ABUSE</td></tr><tr><td>12</td><td>ACORN</td></tr><tr><td>13</td><td>ACRID</td></tr><tr><td>14</td><td>ACTOR</td></tr><tr><td>15</td><td>ACUTE</td></tr><tr><td>16</td><td>ADAGE</td></tr><tr><td>17</td><td>ADAPT</td></tr><tr><td>18</td><td>ADEPT</td></tr><tr><td>19</td><td>ADMIN</td></tr><tr><td colspan=\"2\"><i>(1974 more)</i></td></tr></tbody></table>"
      ]
     },
     "metadata": {},
     "output_type": "display_data"
    }
   ],
   "source": [
    "\n",
    "let isPossibility (toFind: string) (current: string): bool = \n",
    "    toFind\n",
    "    |> Seq.exists (fun letter -> Seq.contains letter current) \n",
    "\n",
    "let possibilities =\n",
    "    let toFind = \"TIGER\"\n",
    "    wordList\n",
    "    |> Array.filter (isPossibility toFind)\n",
    "\n",
    "type RulesList = {white: char option; black: char list}\n",
    "\n",
    "let rec isLegal toFind solution = \n",
    "    let rec loop (ruleSet: RulesList array) = function\n",
    "        | [] -> true\n",
    "        | th :: tl -> \n",
    "            // is valid\n",
    "            let mutable valid = true\n",
    "            let mutable i = 0\n",
    "            let mutable ruleSet' = ruleSet\n",
    "            // another one?\n",
    "            while i < 5 && valid do\n",
    "                // check validity of characters\n",
    "                valid <-\n",
    "                    match ruleSet.[i].white with \n",
    "                    | Some letter -> letter = th[i]\n",
    "                    | None -> not <| Seq.exists ((=) th[i]) ruleSet.[i].black\n",
    "                // add character to next ruleSet\n",
    "                if toFind[i] = th[i] then\n",
    "                    ruleSet'.[i].white <- Some th[i]\n",
    "\n",
    "                i <- i + 1\n",
    "            valid && loop ruleSet' tl\n",
    "    let rules = Array.init 5 (fun _ -> {white = None; black = []})\n",
    "    loop rules solution "
   ]
  }
 ],
 "metadata": {
  "kernelspec": {
   "display_name": ".NET (F#)",
   "language": "F#",
   "name": ".net-fsharp"
  },
  "language_info": {
   "name": "F#"
  }
 },
 "nbformat": 4,
 "nbformat_minor": 2
}
